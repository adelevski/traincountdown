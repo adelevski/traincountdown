{
 "cells": [
  {
   "cell_type": "code",
   "execution_count": 54,
   "metadata": {},
   "outputs": [],
   "source": [
    "import time\n",
    "import requests\n",
    "from datetime import datetime, timedelta\n",
    "import xml.etree.ElementTree as ET\n",
    "import json\n",
    "from key import API_KEY"
   ]
  },
  {
   "cell_type": "code",
   "execution_count": 57,
   "metadata": {},
   "outputs": [
    {
     "name": "stdout",
     "output_type": "stream",
     "text": [
      "next_ohare='118' - 2023-02-10 15:01:57\n",
      "next_fp='218' - 2023-02-10 15:03:36\n",
      "next_ohare='118' - 2023-02-10 15:01:57\n",
      "next_fp='218' - 2023-02-10 15:03:36\n",
      "next_ohare='118' - 2023-02-10 15:01:57\n",
      "next_fp='218' - 2023-02-10 15:03:36\n",
      "next_ohare='214' - 2023-02-10 15:04:14\n",
      "next_fp='218' - 2023-02-10 15:04:17\n",
      "next_ohare='214' - 2023-02-10 15:04:14\n",
      "next_fp='218' - 2023-02-10 15:04:17\n",
      "next_ohare='214' - 2023-02-10 15:04:14\n",
      "next_fp='218' - 2023-02-10 15:04:17\n",
      "next_ohare='214' - 2023-02-10 15:04:14\n",
      "next_fp='218' - 2023-02-10 15:04:17\n"
     ]
    },
    {
     "ename": "KeyboardInterrupt",
     "evalue": "",
     "output_type": "error",
     "traceback": [
      "\u001b[1;31m---------------------------------------------------------------------------\u001b[0m",
      "\u001b[1;31mKeyboardInterrupt\u001b[0m                         Traceback (most recent call last)",
      "Cell \u001b[1;32mIn[57], line 37\u001b[0m\n\u001b[0;32m     34\u001b[0m         \u001b[39mprint\u001b[39m(\u001b[39mf\u001b[39m\u001b[39m\"\u001b[39m\u001b[39m{\u001b[39;00mnext_fp\u001b[39m=}\u001b[39;00m\u001b[39m - \u001b[39m\u001b[39m{\u001b[39;00mfp_queue[next_fp]\u001b[39m}\u001b[39;00m\u001b[39m\"\u001b[39m)\n\u001b[0;32m     35\u001b[0m         time\u001b[39m.\u001b[39msleep(\u001b[39m5\u001b[39m)\n\u001b[1;32m---> 37\u001b[0m main()\n",
      "Cell \u001b[1;32mIn[57], line 35\u001b[0m, in \u001b[0;36mmain\u001b[1;34m()\u001b[0m\n\u001b[0;32m     33\u001b[0m \u001b[39mprint\u001b[39m(\u001b[39mf\u001b[39m\u001b[39m\"\u001b[39m\u001b[39m{\u001b[39;00mnext_ohare\u001b[39m=}\u001b[39;00m\u001b[39m - \u001b[39m\u001b[39m{\u001b[39;00mohare_queue[next_ohare]\u001b[39m}\u001b[39;00m\u001b[39m\"\u001b[39m)\n\u001b[0;32m     34\u001b[0m \u001b[39mprint\u001b[39m(\u001b[39mf\u001b[39m\u001b[39m\"\u001b[39m\u001b[39m{\u001b[39;00mnext_fp\u001b[39m=}\u001b[39;00m\u001b[39m - \u001b[39m\u001b[39m{\u001b[39;00mfp_queue[next_fp]\u001b[39m}\u001b[39;00m\u001b[39m\"\u001b[39m)\n\u001b[1;32m---> 35\u001b[0m time\u001b[39m.\u001b[39;49msleep(\u001b[39m5\u001b[39;49m)\n",
      "\u001b[1;31mKeyboardInterrupt\u001b[0m: "
     ]
    }
   ],
   "source": [
    "\n",
    "def get_trains(dir, train_ids, queue):\n",
    "    req = requests.get(f'http://lapi.transitchicago.com/api/1.0/ttarrivals.aspx?key={API_KEY}&mapid={dir}')\n",
    "    elem = ET.fromstring(req.text)\n",
    "    TODAY = datetime.today()\n",
    "    current_trains = []\n",
    "    for i, train in enumerate(elem.findall('eta')):\n",
    "        train_time = datetime.combine(TODAY, datetime.strptime(train.find('arrT').text.split(' ')[-1], '%H:%M:%S').time())\n",
    "        train_id = train.find('rn').text\n",
    "        current_trains.append(train_id)\n",
    "        if train_id not in train_ids:\n",
    "            train_ids.add(train_id)\n",
    "            queue.setdefault(train_id, train_time)\n",
    "        else:\n",
    "            queue[train_id] = train_time\n",
    "\n",
    "    to_be_removed = [id for id in train_ids if id not in current_trains]\n",
    "\n",
    "    for id in to_be_removed:\n",
    "        train_ids.remove(id)\n",
    "        queue.pop(id)\n",
    "\n",
    "    return train_ids, queue\n",
    "\n",
    "\n",
    "def main():\n",
    "    ohare_train_ids, fp_train_ids = set(), set()\n",
    "    ohare_queue, fp_queue = {}, {}\n",
    "    while True:\n",
    "        ohare_train_ids, ohare_queue = get_trains('40670', ohare_train_ids, ohare_queue)\n",
    "        fp_train_ids, fp_queue = get_trains('40220', fp_train_ids, fp_queue)\n",
    "        next_ohare = min(ohare_queue, key=ohare_queue.get)\n",
    "        next_fp = min(fp_queue, key=fp_queue.get)\n",
    "        print(f\"{next_ohare=} - {ohare_queue[next_ohare]}\")\n",
    "        print(f\"{next_fp=} - {fp_queue[next_fp]}\")\n",
    "        time.sleep(5)\n",
    "\n",
    "main()\n"
   ]
  },
  {
   "cell_type": "code",
   "execution_count": null,
   "metadata": {},
   "outputs": [],
   "source": []
  }
 ],
 "metadata": {
  "kernelspec": {
   "display_name": "venv",
   "language": "python",
   "name": "python3"
  },
  "language_info": {
   "codemirror_mode": {
    "name": "ipython",
    "version": 3
   },
   "file_extension": ".py",
   "mimetype": "text/x-python",
   "name": "python",
   "nbconvert_exporter": "python",
   "pygments_lexer": "ipython3",
   "version": "3.9.13"
  },
  "orig_nbformat": 4,
  "vscode": {
   "interpreter": {
    "hash": "10c7be976045951c2399b5caa5b7335f8f211b5fd6603b4cc8d9c0b00ceda65b"
   }
  }
 },
 "nbformat": 4,
 "nbformat_minor": 2
}
